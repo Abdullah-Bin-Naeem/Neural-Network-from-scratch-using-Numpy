{
  "cells": [
    {
      "cell_type": "markdown",
      "source": [
        "# **Neural Network from scratch using numpy**"
      ],
      "metadata": {
        "id": "pE_lx99BH2Kg"
      }
    },
    {
      "cell_type": "markdown",
      "source": [
        "**Importing necessary libraries**"
      ],
      "metadata": {
        "id": "sjUaia0eE8m2"
      }
    },
    {
      "cell_type": "code",
      "execution_count": null,
      "metadata": {
        "id": "o31rIOBZDgFV"
      },
      "outputs": [],
      "source": [
        "import pdb\n",
        "import numpy as np\n",
        "from sklearn.datasets import load_iris\n",
        "from sklearn.metrics import accuracy_score\n",
        "from sklearn.preprocessing import StandardScaler\n",
        "from sklearn.model_selection import train_test_split\n",
        "\n",
        "import numpy as np"
      ]
    },
    {
      "cell_type": "code",
      "execution_count": null,
      "metadata": {
        "id": "DxbvpGtgDgFW",
        "outputId": "3110a657-38c8-4a1e-b44c-d31a7b8d2f2c",
        "colab": {
          "base_uri": "https://localhost:8080/"
        }
      },
      "outputs": [
        {
          "output_type": "stream",
          "name": "stdout",
          "text": [
            "Loss in epoch 0: 1.999999999983513\n",
            "Loss in epoch 1: 1.9998332594824577\n",
            "Loss in epoch 2: 1.9997706797123043\n",
            "Loss in epoch 3: 1.9997080754178105\n",
            "Loss in epoch 4: 1.9996454711175162\n",
            "Loss in epoch 5: 1.9995828668088125\n",
            "Loss in epoch 6: 1.9995202624890909\n",
            "Loss in epoch 7: 1.999457658155741\n",
            "Loss in epoch 8: 1.9993950538061553\n",
            "Loss in epoch 9: 1.9993324494368372\n",
            "Loss in epoch 10: 1.9992698450474364\n",
            "Loss in epoch 11: 1.9992072406341275\n",
            "Loss in epoch 12: 1.9991446361941385\n",
            "Loss in epoch 13: 1.999082031724857\n",
            "Loss in epoch 14: 1.99901942722367\n",
            "Loss in epoch 15: 1.9989568226879646\n",
            "Loss in epoch 16: 1.998894218115125\n",
            "Loss in epoch 17: 1.9988316135025361\n",
            "Loss in epoch 18: 1.9987690088475816\n",
            "Loss in epoch 19: 1.998706404147644\n"
          ]
        }
      ],
      "source": [
        "import numpy as np\n",
        "\n",
        "class NN:\n",
        "    def __init__(self, neurons, num_layers, learning_rate=0.01, reg_strength=0.01):\n",
        "        self.neurons = neurons\n",
        "        self.layers = num_layers\n",
        "        self.learning_rate = learning_rate\n",
        "        self.W = []\n",
        "        self.b = []\n",
        "        self.dx = []\n",
        "        self.dw = []\n",
        "        self.db = []\n",
        "        for i in range(num_layers):\n",
        "            self.W.append(np.random.randn(neurons[i], neurons[i+1]) * 0.01)\n",
        "            self.b.append(np.zeros((1, neurons[i+1])))\n",
        "\n",
        "    def relu(self, x):\n",
        "        return np.maximum(0, x)\n",
        "\n",
        "    def affine_forward(self, x):\n",
        "        self.dx = []\n",
        "        self.dw = []\n",
        "        self.db = []\n",
        "        for i in range(self.layers):\n",
        "            self.dx.append(x)\n",
        "            x = np.dot(x, self.W[i]) + self.b[i]\n",
        "            self.dw.append(x)\n",
        "            x = self.relu(x)\n",
        "            #pdb.set_trace()\n",
        "            self.db.append(x>0)\n",
        "        return x\n",
        "\n",
        "\n",
        "    def SVM_muliclass_loss(self, outs, y):\n",
        "        num_examples = len(y)\n",
        "        correct_class_scores = outs[np.arange(num_examples), y]\n",
        "        margins = np.maximum(0, outs - correct_class_scores[:, np.newaxis] + 1)\n",
        "        margins[np.arange(num_examples), y] = 0\n",
        "        loss = np.mean(np.sum(margins, axis=1))\n",
        "\n",
        "        grad_scores = np.zeros_like(outs)\n",
        "        margins[margins > 0] = 1\n",
        "        row_sum = np.sum(margins, axis=1)\n",
        "        margins[np.arange(num_examples), y] = -row_sum\n",
        "        return loss, margins\n",
        "\n",
        "    def affine_backward(self, ud):\n",
        "        for i in range(self.layers - 1, -1, -1):\n",
        "            ud= self.db[i] * ud\n",
        "            dW = np.dot(self.dx[i].T, ud) / len(ud)\n",
        "            db = np.sum(ud, axis=0, keepdims=True) / len(ud)\n",
        "            self.W[i] -= self.learning_rate * dW\n",
        "            self.b[i] -= self.learning_rate * db\n",
        "            ud = np.dot(ud, self.W[i].T)\n",
        "\n",
        "\n",
        "layers = 5\n",
        "neurons = [4, 2, 3,6,9,3]\n",
        "obj = NN(neurons, layers, learning_rate= 0.1)\n",
        "\n",
        "iris = load_iris()\n",
        "X = iris.data\n",
        "y = iris.target\n",
        "X_train, X_test, y_train, y_test = train_test_split(X, y, test_size=0.2, random_state=42)\n",
        "\n",
        "for i in range(20):\n",
        "    pred = obj.affine_forward(X_train)\n",
        "    loss, gradients = obj.SVM_muliclass_loss(pred, y_train)\n",
        "    obj.affine_backward(gradients)\n",
        "    print(f'Loss in epoch {i}:',loss)"
      ]
    },
    {
      "cell_type": "code",
      "execution_count": null,
      "metadata": {
        "id": "ts715grDDgFX"
      },
      "outputs": [],
      "source": []
    },
    {
      "cell_type": "code",
      "execution_count": null,
      "metadata": {
        "id": "0ocq27jADgFX"
      },
      "outputs": [],
      "source": []
    },
    {
      "cell_type": "code",
      "execution_count": null,
      "metadata": {
        "id": "YOWjHZDaFhvH"
      },
      "outputs": [],
      "source": []
    }
  ],
  "metadata": {
    "colab": {
      "provenance": []
    },
    "kernelspec": {
      "display_name": "Python 3",
      "name": "python3"
    },
    "language_info": {
      "codemirror_mode": {
        "name": "ipython",
        "version": 3
      },
      "file_extension": ".py",
      "mimetype": "text/x-python",
      "name": "python",
      "nbconvert_exporter": "python",
      "pygments_lexer": "ipython3",
      "version": "3.12.0"
    }
  },
  "nbformat": 4,
  "nbformat_minor": 0
}